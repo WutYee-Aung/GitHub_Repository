{
 "cells": [
  {
   "cell_type": "code",
   "execution_count": 1,
   "metadata": {},
   "outputs": [
    {
     "ename": "TypeError",
     "evalue": "Rule.__init__() got an unexpected keyword argument 'method'",
     "output_type": "error",
     "traceback": [
      "\u001b[0;31m---------------------------------------------------------------------------\u001b[0m",
      "\u001b[0;31mTypeError\u001b[0m                                 Traceback (most recent call last)",
      "Cell \u001b[0;32mIn[1], line 5\u001b[0m\n\u001b[1;32m      1\u001b[0m \u001b[39mfrom\u001b[39;00m \u001b[39mflask\u001b[39;00m \u001b[39mimport\u001b[39;00m Flask, render_template, request\n\u001b[1;32m      3\u001b[0m app \u001b[39m=\u001b[39m Flask(\u001b[39m__name__\u001b[39m)\n\u001b[0;32m----> 5\u001b[0m \u001b[39m@app\u001b[39;49m\u001b[39m.\u001b[39;49mroute(\u001b[39m'\u001b[39;49m\u001b[39m/\u001b[39;49m\u001b[39m'\u001b[39;49m,method\u001b[39m=\u001b[39;49m[\u001b[39m'\u001b[39;49m\u001b[39mGET\u001b[39;49m\u001b[39m'\u001b[39;49m])\n\u001b[1;32m      6\u001b[0m \u001b[39mdef\u001b[39;49;00m \u001b[39mhello_world\u001b[39;49m():\n\u001b[1;32m      7\u001b[0m     \u001b[39mreturn\u001b[39;49;00m \u001b[39m\"\u001b[39;49m\u001b[39mHello World\u001b[39;49m\u001b[39m\"\u001b[39;49m\n\u001b[1;32m      9\u001b[0m \u001b[39m# import call_model\u001b[39;00m\n\u001b[1;32m     10\u001b[0m \n\u001b[1;32m     11\u001b[0m \u001b[39m# app = Flask(__name__)\u001b[39;00m\n\u001b[0;32m   (...)\u001b[0m\n\u001b[1;32m     26\u001b[0m \u001b[39m# if __name__ == '__main__':\u001b[39;00m\n\u001b[1;32m     27\u001b[0m \u001b[39m#     app.run(debug=True)\u001b[39;00m\n",
      "File \u001b[0;32m/usr/local/lib/python3.11/site-packages/flask/scaffold.py:435\u001b[0m, in \u001b[0;36mScaffold.route.<locals>.decorator\u001b[0;34m(f)\u001b[0m\n\u001b[1;32m    433\u001b[0m \u001b[39mdef\u001b[39;00m \u001b[39mdecorator\u001b[39m(f: T_route) \u001b[39m-\u001b[39m\u001b[39m>\u001b[39m T_route:\n\u001b[1;32m    434\u001b[0m     endpoint \u001b[39m=\u001b[39m options\u001b[39m.\u001b[39mpop(\u001b[39m\"\u001b[39m\u001b[39mendpoint\u001b[39m\u001b[39m\"\u001b[39m, \u001b[39mNone\u001b[39;00m)\n\u001b[0;32m--> 435\u001b[0m     \u001b[39mself\u001b[39;49m\u001b[39m.\u001b[39;49madd_url_rule(rule, endpoint, f, \u001b[39m*\u001b[39;49m\u001b[39m*\u001b[39;49moptions)\n\u001b[1;32m    436\u001b[0m     \u001b[39mreturn\u001b[39;00m f\n",
      "File \u001b[0;32m/usr/local/lib/python3.11/site-packages/flask/scaffold.py:50\u001b[0m, in \u001b[0;36msetupmethod.<locals>.wrapper_func\u001b[0;34m(self, *args, **kwargs)\u001b[0m\n\u001b[1;32m     48\u001b[0m \u001b[39mdef\u001b[39;00m \u001b[39mwrapper_func\u001b[39m(\u001b[39mself\u001b[39m, \u001b[39m*\u001b[39margs: t\u001b[39m.\u001b[39mAny, \u001b[39m*\u001b[39m\u001b[39m*\u001b[39mkwargs: t\u001b[39m.\u001b[39mAny) \u001b[39m-\u001b[39m\u001b[39m>\u001b[39m t\u001b[39m.\u001b[39mAny:\n\u001b[1;32m     49\u001b[0m     \u001b[39mself\u001b[39m\u001b[39m.\u001b[39m_check_setup_finished(f_name)\n\u001b[0;32m---> 50\u001b[0m     \u001b[39mreturn\u001b[39;00m f(\u001b[39mself\u001b[39;49m, \u001b[39m*\u001b[39;49margs, \u001b[39m*\u001b[39;49m\u001b[39m*\u001b[39;49mkwargs)\n",
      "File \u001b[0;32m/usr/local/lib/python3.11/site-packages/flask/app.py:1052\u001b[0m, in \u001b[0;36mFlask.add_url_rule\u001b[0;34m(self, rule, endpoint, view_func, provide_automatic_options, **options)\u001b[0m\n\u001b[1;32m   1049\u001b[0m \u001b[39m# Add the required methods now.\u001b[39;00m\n\u001b[1;32m   1050\u001b[0m methods \u001b[39m|\u001b[39m\u001b[39m=\u001b[39m required_methods\n\u001b[0;32m-> 1052\u001b[0m rule \u001b[39m=\u001b[39m \u001b[39mself\u001b[39;49m\u001b[39m.\u001b[39;49murl_rule_class(rule, methods\u001b[39m=\u001b[39;49mmethods, \u001b[39m*\u001b[39;49m\u001b[39m*\u001b[39;49moptions)\n\u001b[1;32m   1053\u001b[0m rule\u001b[39m.\u001b[39mprovide_automatic_options \u001b[39m=\u001b[39m provide_automatic_options  \u001b[39m# type: ignore\u001b[39;00m\n\u001b[1;32m   1055\u001b[0m \u001b[39mself\u001b[39m\u001b[39m.\u001b[39murl_map\u001b[39m.\u001b[39madd(rule)\n",
      "\u001b[0;31mTypeError\u001b[0m: Rule.__init__() got an unexpected keyword argument 'method'"
     ]
    }
   ],
   "source": [
    "from flask import Flask, render_template, request\n",
    "\n",
    "app = Flask(__name__)\n",
    "\n",
    "@app.route('/',method=['GET'])\n",
    "def hello_world():\n",
    "    return \"Hello World\"\n",
    "\n",
    "if __name__ == '__main__':\n",
    "    app.run(port=3000, debug=True)\n",
    "\n",
    "# import call_model\n",
    "\n",
    "# app = Flask(__name__)\n",
    "\n",
    "# @app.route('/')\n",
    "# def index():\n",
    "#     return render_template('index.html')\n",
    "\n",
    "# @app.route('/predict', methods=['POST'])\n",
    "# def predict():\n",
    "#     input_features = [float(request.form['feature1']),\n",
    "#                       float(request.form['feature2']),\n",
    "#                       float(request.form['feature3'])]\n",
    "\n",
    "#     prediction = call_model.CarPricePredictor(input_features)\n",
    "#     return render_template('index.html', prediction=prediction)\n",
    "\n",
    "# if __name__ == '__main__':\n",
    "#     app.run(debug=True)"
   ]
  }
 ],
 "metadata": {
  "kernelspec": {
   "display_name": "Python 3",
   "language": "python",
   "name": "python3"
  },
  "language_info": {
   "codemirror_mode": {
    "name": "ipython",
    "version": 3
   },
   "file_extension": ".py",
   "mimetype": "text/x-python",
   "name": "python",
   "nbconvert_exporter": "python",
   "pygments_lexer": "ipython3",
   "version": "3.11.4"
  },
  "orig_nbformat": 4
 },
 "nbformat": 4,
 "nbformat_minor": 2
}
