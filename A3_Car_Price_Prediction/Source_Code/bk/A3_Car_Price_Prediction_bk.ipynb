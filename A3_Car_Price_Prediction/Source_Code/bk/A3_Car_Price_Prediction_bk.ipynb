{
 "cells": [
  {
   "cell_type": "markdown",
   "metadata": {},
   "source": [
    "## Importing libraries"
   ]
  },
  {
   "cell_type": "code",
   "execution_count": 1,
   "metadata": {},
   "outputs": [],
   "source": [
    "import numpy as np\n",
    "import pandas as pd\n",
    "import seaborn as sns\n",
    "import matplotlib.pyplot as plt\n",
    "import warnings\n",
    "import matplotlib\n",
    "import time\n",
    "from sklearn.metrics import classification_report\n",
    "warnings.filterwarnings('ignore')"
   ]
  },
  {
   "cell_type": "markdown",
   "metadata": {},
   "source": [
    "## 1. Load data"
   ]
  },
  {
   "cell_type": "code",
   "execution_count": 2,
   "metadata": {},
   "outputs": [],
   "source": [
    "# df = pd.read_csv('/root/source_code/raw_data/Cars.csv')\n",
    "df = pd.read_csv('C:/AIT/FirstSem/ML/Assignment/A3/A3_Car_Price_Prediction/Source_Code/raw_data/Cars.csv')"
   ]
  },
  {
   "cell_type": "markdown",
   "metadata": {},
   "source": [
    "## 2. Preprocessing"
   ]
  },
  {
   "cell_type": "code",
   "execution_count": 3,
   "metadata": {},
   "outputs": [],
   "source": [
    "var_value = df['max_power'].str.split(' ', expand=True)[0]\n",
    "var_value_2 = [None if isinstance(value, str) and value.isalpha() else float(value) for value in var_value]\n",
    "df['max_power'] = var_value_2"
   ]
  },
  {
   "cell_type": "code",
   "execution_count": 4,
   "metadata": {},
   "outputs": [],
   "source": [
    "df['mileage'] = df['mileage'].str.split(' ', expand=True)[0].astype(float)"
   ]
  },
  {
   "cell_type": "code",
   "execution_count": 5,
   "metadata": {},
   "outputs": [],
   "source": [
    "from datetime import datetime\n",
    "df['car_age'] = (datetime.now().year) - df['year']"
   ]
  },
  {
   "cell_type": "markdown",
   "metadata": {},
   "source": [
    "## Convert the continuous label \"selling_price\" into a discrete variable with four classes (0, 1, 2, 3)"
   ]
  },
  {
   "cell_type": "code",
   "execution_count": 6,
   "metadata": {},
   "outputs": [
    {
     "data": {
      "text/plain": [
       "(29999, 10000000)"
      ]
     },
     "execution_count": 6,
     "metadata": {},
     "output_type": "execute_result"
    }
   ],
   "source": [
    "min(df['selling_price']),max(df['selling_price'])"
   ]
  },
  {
   "cell_type": "code",
   "execution_count": 7,
   "metadata": {},
   "outputs": [],
   "source": [
    "bins = [-float('inf'), 100000, 500000, 800000, float('inf')]"
   ]
  },
  {
   "cell_type": "code",
   "execution_count": 8,
   "metadata": {},
   "outputs": [],
   "source": [
    "labels = [0, 1, 2, 3]"
   ]
  },
  {
   "cell_type": "code",
   "execution_count": 9,
   "metadata": {},
   "outputs": [],
   "source": [
    "df['selling_price_category'] = pd.cut(df['selling_price'], bins=bins, labels=labels)"
   ]
  },
  {
   "cell_type": "code",
   "execution_count": 10,
   "metadata": {},
   "outputs": [
    {
     "data": {
      "text/html": [
       "<div>\n",
       "<style scoped>\n",
       "    .dataframe tbody tr th:only-of-type {\n",
       "        vertical-align: middle;\n",
       "    }\n",
       "\n",
       "    .dataframe tbody tr th {\n",
       "        vertical-align: top;\n",
       "    }\n",
       "\n",
       "    .dataframe thead th {\n",
       "        text-align: right;\n",
       "    }\n",
       "</style>\n",
       "<table border=\"1\" class=\"dataframe\">\n",
       "  <thead>\n",
       "    <tr style=\"text-align: right;\">\n",
       "      <th></th>\n",
       "      <th>name</th>\n",
       "      <th>year</th>\n",
       "      <th>selling_price</th>\n",
       "      <th>km_driven</th>\n",
       "      <th>fuel</th>\n",
       "      <th>seller_type</th>\n",
       "      <th>transmission</th>\n",
       "      <th>owner</th>\n",
       "      <th>mileage</th>\n",
       "      <th>engine</th>\n",
       "      <th>max_power</th>\n",
       "      <th>torque</th>\n",
       "      <th>seats</th>\n",
       "      <th>car_age</th>\n",
       "      <th>selling_price_category</th>\n",
       "    </tr>\n",
       "  </thead>\n",
       "  <tbody>\n",
       "    <tr>\n",
       "      <th>0</th>\n",
       "      <td>Maruti Swift Dzire VDI</td>\n",
       "      <td>2014</td>\n",
       "      <td>450000</td>\n",
       "      <td>145500</td>\n",
       "      <td>Diesel</td>\n",
       "      <td>Individual</td>\n",
       "      <td>Manual</td>\n",
       "      <td>First Owner</td>\n",
       "      <td>23.40</td>\n",
       "      <td>1248 CC</td>\n",
       "      <td>74.00</td>\n",
       "      <td>190Nm@ 2000rpm</td>\n",
       "      <td>5.0</td>\n",
       "      <td>9</td>\n",
       "      <td>1</td>\n",
       "    </tr>\n",
       "    <tr>\n",
       "      <th>1</th>\n",
       "      <td>Skoda Rapid 1.5 TDI Ambition</td>\n",
       "      <td>2014</td>\n",
       "      <td>370000</td>\n",
       "      <td>120000</td>\n",
       "      <td>Diesel</td>\n",
       "      <td>Individual</td>\n",
       "      <td>Manual</td>\n",
       "      <td>Second Owner</td>\n",
       "      <td>21.14</td>\n",
       "      <td>1498 CC</td>\n",
       "      <td>103.52</td>\n",
       "      <td>250Nm@ 1500-2500rpm</td>\n",
       "      <td>5.0</td>\n",
       "      <td>9</td>\n",
       "      <td>1</td>\n",
       "    </tr>\n",
       "    <tr>\n",
       "      <th>2</th>\n",
       "      <td>Honda City 2017-2020 EXi</td>\n",
       "      <td>2006</td>\n",
       "      <td>158000</td>\n",
       "      <td>140000</td>\n",
       "      <td>Petrol</td>\n",
       "      <td>Individual</td>\n",
       "      <td>Manual</td>\n",
       "      <td>Third Owner</td>\n",
       "      <td>17.70</td>\n",
       "      <td>1497 CC</td>\n",
       "      <td>78.00</td>\n",
       "      <td>12.7@ 2,700(kgm@ rpm)</td>\n",
       "      <td>5.0</td>\n",
       "      <td>17</td>\n",
       "      <td>1</td>\n",
       "    </tr>\n",
       "    <tr>\n",
       "      <th>3</th>\n",
       "      <td>Hyundai i20 Sportz Diesel</td>\n",
       "      <td>2010</td>\n",
       "      <td>225000</td>\n",
       "      <td>127000</td>\n",
       "      <td>Diesel</td>\n",
       "      <td>Individual</td>\n",
       "      <td>Manual</td>\n",
       "      <td>First Owner</td>\n",
       "      <td>23.00</td>\n",
       "      <td>1396 CC</td>\n",
       "      <td>90.00</td>\n",
       "      <td>22.4 kgm at 1750-2750rpm</td>\n",
       "      <td>5.0</td>\n",
       "      <td>13</td>\n",
       "      <td>1</td>\n",
       "    </tr>\n",
       "    <tr>\n",
       "      <th>4</th>\n",
       "      <td>Maruti Swift VXI BSIII</td>\n",
       "      <td>2007</td>\n",
       "      <td>130000</td>\n",
       "      <td>120000</td>\n",
       "      <td>Petrol</td>\n",
       "      <td>Individual</td>\n",
       "      <td>Manual</td>\n",
       "      <td>First Owner</td>\n",
       "      <td>16.10</td>\n",
       "      <td>1298 CC</td>\n",
       "      <td>88.20</td>\n",
       "      <td>11.5@ 4,500(kgm@ rpm)</td>\n",
       "      <td>5.0</td>\n",
       "      <td>16</td>\n",
       "      <td>1</td>\n",
       "    </tr>\n",
       "    <tr>\n",
       "      <th>5</th>\n",
       "      <td>Hyundai Xcent 1.2 VTVT E Plus</td>\n",
       "      <td>2017</td>\n",
       "      <td>440000</td>\n",
       "      <td>45000</td>\n",
       "      <td>Petrol</td>\n",
       "      <td>Individual</td>\n",
       "      <td>Manual</td>\n",
       "      <td>First Owner</td>\n",
       "      <td>20.14</td>\n",
       "      <td>1197 CC</td>\n",
       "      <td>81.86</td>\n",
       "      <td>113.75nm@ 4000rpm</td>\n",
       "      <td>5.0</td>\n",
       "      <td>6</td>\n",
       "      <td>1</td>\n",
       "    </tr>\n",
       "    <tr>\n",
       "      <th>6</th>\n",
       "      <td>Maruti Wagon R LXI DUO BSIII</td>\n",
       "      <td>2007</td>\n",
       "      <td>96000</td>\n",
       "      <td>175000</td>\n",
       "      <td>LPG</td>\n",
       "      <td>Individual</td>\n",
       "      <td>Manual</td>\n",
       "      <td>First Owner</td>\n",
       "      <td>17.30</td>\n",
       "      <td>1061 CC</td>\n",
       "      <td>57.50</td>\n",
       "      <td>7.8@ 4,500(kgm@ rpm)</td>\n",
       "      <td>5.0</td>\n",
       "      <td>16</td>\n",
       "      <td>0</td>\n",
       "    </tr>\n",
       "    <tr>\n",
       "      <th>7</th>\n",
       "      <td>Maruti 800 DX BSII</td>\n",
       "      <td>2001</td>\n",
       "      <td>45000</td>\n",
       "      <td>5000</td>\n",
       "      <td>Petrol</td>\n",
       "      <td>Individual</td>\n",
       "      <td>Manual</td>\n",
       "      <td>Second Owner</td>\n",
       "      <td>16.10</td>\n",
       "      <td>796 CC</td>\n",
       "      <td>37.00</td>\n",
       "      <td>59Nm@ 2500rpm</td>\n",
       "      <td>4.0</td>\n",
       "      <td>22</td>\n",
       "      <td>0</td>\n",
       "    </tr>\n",
       "    <tr>\n",
       "      <th>8</th>\n",
       "      <td>Toyota Etios VXD</td>\n",
       "      <td>2011</td>\n",
       "      <td>350000</td>\n",
       "      <td>90000</td>\n",
       "      <td>Diesel</td>\n",
       "      <td>Individual</td>\n",
       "      <td>Manual</td>\n",
       "      <td>First Owner</td>\n",
       "      <td>23.59</td>\n",
       "      <td>1364 CC</td>\n",
       "      <td>67.10</td>\n",
       "      <td>170Nm@ 1800-2400rpm</td>\n",
       "      <td>5.0</td>\n",
       "      <td>12</td>\n",
       "      <td>1</td>\n",
       "    </tr>\n",
       "    <tr>\n",
       "      <th>9</th>\n",
       "      <td>Ford Figo Diesel Celebration Edition</td>\n",
       "      <td>2013</td>\n",
       "      <td>200000</td>\n",
       "      <td>169000</td>\n",
       "      <td>Diesel</td>\n",
       "      <td>Individual</td>\n",
       "      <td>Manual</td>\n",
       "      <td>First Owner</td>\n",
       "      <td>20.00</td>\n",
       "      <td>1399 CC</td>\n",
       "      <td>68.10</td>\n",
       "      <td>160Nm@ 2000rpm</td>\n",
       "      <td>5.0</td>\n",
       "      <td>10</td>\n",
       "      <td>1</td>\n",
       "    </tr>\n",
       "  </tbody>\n",
       "</table>\n",
       "</div>"
      ],
      "text/plain": [
       "                                   name  year  selling_price  km_driven  \\\n",
       "0                Maruti Swift Dzire VDI  2014         450000     145500   \n",
       "1          Skoda Rapid 1.5 TDI Ambition  2014         370000     120000   \n",
       "2              Honda City 2017-2020 EXi  2006         158000     140000   \n",
       "3             Hyundai i20 Sportz Diesel  2010         225000     127000   \n",
       "4                Maruti Swift VXI BSIII  2007         130000     120000   \n",
       "5         Hyundai Xcent 1.2 VTVT E Plus  2017         440000      45000   \n",
       "6          Maruti Wagon R LXI DUO BSIII  2007          96000     175000   \n",
       "7                    Maruti 800 DX BSII  2001          45000       5000   \n",
       "8                      Toyota Etios VXD  2011         350000      90000   \n",
       "9  Ford Figo Diesel Celebration Edition  2013         200000     169000   \n",
       "\n",
       "     fuel seller_type transmission         owner  mileage   engine  max_power  \\\n",
       "0  Diesel  Individual       Manual   First Owner    23.40  1248 CC      74.00   \n",
       "1  Diesel  Individual       Manual  Second Owner    21.14  1498 CC     103.52   \n",
       "2  Petrol  Individual       Manual   Third Owner    17.70  1497 CC      78.00   \n",
       "3  Diesel  Individual       Manual   First Owner    23.00  1396 CC      90.00   \n",
       "4  Petrol  Individual       Manual   First Owner    16.10  1298 CC      88.20   \n",
       "5  Petrol  Individual       Manual   First Owner    20.14  1197 CC      81.86   \n",
       "6     LPG  Individual       Manual   First Owner    17.30  1061 CC      57.50   \n",
       "7  Petrol  Individual       Manual  Second Owner    16.10   796 CC      37.00   \n",
       "8  Diesel  Individual       Manual   First Owner    23.59  1364 CC      67.10   \n",
       "9  Diesel  Individual       Manual   First Owner    20.00  1399 CC      68.10   \n",
       "\n",
       "                     torque  seats  car_age selling_price_category  \n",
       "0            190Nm@ 2000rpm    5.0        9                      1  \n",
       "1       250Nm@ 1500-2500rpm    5.0        9                      1  \n",
       "2     12.7@ 2,700(kgm@ rpm)    5.0       17                      1  \n",
       "3  22.4 kgm at 1750-2750rpm    5.0       13                      1  \n",
       "4     11.5@ 4,500(kgm@ rpm)    5.0       16                      1  \n",
       "5         113.75nm@ 4000rpm    5.0        6                      1  \n",
       "6      7.8@ 4,500(kgm@ rpm)    5.0       16                      0  \n",
       "7             59Nm@ 2500rpm    4.0       22                      0  \n",
       "8       170Nm@ 1800-2400rpm    5.0       12                      1  \n",
       "9            160Nm@ 2000rpm    5.0       10                      1  "
      ]
     },
     "execution_count": 10,
     "metadata": {},
     "output_type": "execute_result"
    }
   ],
   "source": [
    "df.head(10)"
   ]
  },
  {
   "cell_type": "code",
   "execution_count": 11,
   "metadata": {},
   "outputs": [
    {
     "data": {
      "text/html": [
       "<div>\n",
       "<style scoped>\n",
       "    .dataframe tbody tr th:only-of-type {\n",
       "        vertical-align: middle;\n",
       "    }\n",
       "\n",
       "    .dataframe tbody tr th {\n",
       "        vertical-align: top;\n",
       "    }\n",
       "\n",
       "    .dataframe thead th {\n",
       "        text-align: right;\n",
       "    }\n",
       "</style>\n",
       "<table border=\"1\" class=\"dataframe\">\n",
       "  <thead>\n",
       "    <tr style=\"text-align: right;\">\n",
       "      <th></th>\n",
       "      <th>name</th>\n",
       "      <th>year</th>\n",
       "      <th>selling_price</th>\n",
       "      <th>km_driven</th>\n",
       "      <th>fuel</th>\n",
       "      <th>seller_type</th>\n",
       "      <th>transmission</th>\n",
       "      <th>owner</th>\n",
       "      <th>mileage</th>\n",
       "      <th>engine</th>\n",
       "      <th>max_power</th>\n",
       "      <th>torque</th>\n",
       "      <th>seats</th>\n",
       "      <th>car_age</th>\n",
       "    </tr>\n",
       "    <tr>\n",
       "      <th>selling_price_category</th>\n",
       "      <th></th>\n",
       "      <th></th>\n",
       "      <th></th>\n",
       "      <th></th>\n",
       "      <th></th>\n",
       "      <th></th>\n",
       "      <th></th>\n",
       "      <th></th>\n",
       "      <th></th>\n",
       "      <th></th>\n",
       "      <th></th>\n",
       "      <th></th>\n",
       "      <th></th>\n",
       "      <th></th>\n",
       "    </tr>\n",
       "  </thead>\n",
       "  <tbody>\n",
       "    <tr>\n",
       "      <th>0</th>\n",
       "      <td>376</td>\n",
       "      <td>376</td>\n",
       "      <td>376</td>\n",
       "      <td>376</td>\n",
       "      <td>376</td>\n",
       "      <td>376</td>\n",
       "      <td>376</td>\n",
       "      <td>376</td>\n",
       "      <td>319</td>\n",
       "      <td>319</td>\n",
       "      <td>318</td>\n",
       "      <td>318</td>\n",
       "      <td>319</td>\n",
       "      <td>376</td>\n",
       "    </tr>\n",
       "    <tr>\n",
       "      <th>1</th>\n",
       "      <td>4263</td>\n",
       "      <td>4263</td>\n",
       "      <td>4263</td>\n",
       "      <td>4263</td>\n",
       "      <td>4263</td>\n",
       "      <td>4263</td>\n",
       "      <td>4263</td>\n",
       "      <td>4263</td>\n",
       "      <td>4113</td>\n",
       "      <td>4113</td>\n",
       "      <td>4117</td>\n",
       "      <td>4113</td>\n",
       "      <td>4113</td>\n",
       "      <td>4263</td>\n",
       "    </tr>\n",
       "    <tr>\n",
       "      <th>2</th>\n",
       "      <td>2194</td>\n",
       "      <td>2194</td>\n",
       "      <td>2194</td>\n",
       "      <td>2194</td>\n",
       "      <td>2194</td>\n",
       "      <td>2194</td>\n",
       "      <td>2194</td>\n",
       "      <td>2194</td>\n",
       "      <td>2183</td>\n",
       "      <td>2183</td>\n",
       "      <td>2185</td>\n",
       "      <td>2183</td>\n",
       "      <td>2183</td>\n",
       "      <td>2194</td>\n",
       "    </tr>\n",
       "    <tr>\n",
       "      <th>3</th>\n",
       "      <td>1295</td>\n",
       "      <td>1295</td>\n",
       "      <td>1295</td>\n",
       "      <td>1295</td>\n",
       "      <td>1295</td>\n",
       "      <td>1295</td>\n",
       "      <td>1295</td>\n",
       "      <td>1295</td>\n",
       "      <td>1292</td>\n",
       "      <td>1292</td>\n",
       "      <td>1292</td>\n",
       "      <td>1292</td>\n",
       "      <td>1292</td>\n",
       "      <td>1295</td>\n",
       "    </tr>\n",
       "  </tbody>\n",
       "</table>\n",
       "</div>"
      ],
      "text/plain": [
       "                        name  year  selling_price  km_driven  fuel  \\\n",
       "selling_price_category                                               \n",
       "0                        376   376            376        376   376   \n",
       "1                       4263  4263           4263       4263  4263   \n",
       "2                       2194  2194           2194       2194  2194   \n",
       "3                       1295  1295           1295       1295  1295   \n",
       "\n",
       "                        seller_type  transmission  owner  mileage  engine  \\\n",
       "selling_price_category                                                      \n",
       "0                               376           376    376      319     319   \n",
       "1                              4263          4263   4263     4113    4113   \n",
       "2                              2194          2194   2194     2183    2183   \n",
       "3                              1295          1295   1295     1292    1292   \n",
       "\n",
       "                        max_power  torque  seats  car_age  \n",
       "selling_price_category                                     \n",
       "0                             318     318    319      376  \n",
       "1                            4117    4113   4113     4263  \n",
       "2                            2185    2183   2183     2194  \n",
       "3                            1292    1292   1292     1295  "
      ]
     },
     "execution_count": 11,
     "metadata": {},
     "output_type": "execute_result"
    }
   ],
   "source": [
    "df.groupby(['selling_price_category']).count()"
   ]
  },
  {
   "cell_type": "markdown",
   "metadata": {},
   "source": [
    "## 4. Feature selection"
   ]
  },
  {
   "cell_type": "code",
   "execution_count": 12,
   "metadata": {},
   "outputs": [],
   "source": [
    "X = df[        ['max_power', 'car_age', 'mileage']        ]\n",
    "\n",
    "y = df['selling_price_category']"
   ]
  },
  {
   "cell_type": "markdown",
   "metadata": {},
   "source": [
    "### Train test split"
   ]
  },
  {
   "cell_type": "code",
   "execution_count": 13,
   "metadata": {},
   "outputs": [],
   "source": [
    "from sklearn.model_selection import train_test_split\n",
    "\n",
    "X_train, X_test, y_train, y_test = train_test_split(X, y, test_size = 0.3, random_state = 72)"
   ]
  },
  {
   "cell_type": "markdown",
   "metadata": {},
   "source": [
    "Null values checking"
   ]
  },
  {
   "cell_type": "code",
   "execution_count": 14,
   "metadata": {},
   "outputs": [
    {
     "data": {
      "text/plain": [
       "max_power    149\n",
       "car_age        0\n",
       "mileage      154\n",
       "dtype: int64"
      ]
     },
     "execution_count": 14,
     "metadata": {},
     "output_type": "execute_result"
    }
   ],
   "source": [
    "X_train[['max_power', 'car_age', 'mileage']].isna().sum()"
   ]
  },
  {
   "cell_type": "code",
   "execution_count": 15,
   "metadata": {},
   "outputs": [
    {
     "data": {
      "text/plain": [
       "max_power    67\n",
       "car_age       0\n",
       "mileage      67\n",
       "dtype: int64"
      ]
     },
     "execution_count": 15,
     "metadata": {},
     "output_type": "execute_result"
    }
   ],
   "source": [
    "X_test[['max_power', 'car_age', 'mileage']].isna().sum()"
   ]
  },
  {
   "cell_type": "code",
   "execution_count": 16,
   "metadata": {},
   "outputs": [
    {
     "data": {
      "text/plain": [
       "(0, 0)"
      ]
     },
     "execution_count": 16,
     "metadata": {},
     "output_type": "execute_result"
    }
   ],
   "source": [
    "y_train.isna().sum(), y_test.isna().sum()"
   ]
  },
  {
   "cell_type": "markdown",
   "metadata": {},
   "source": [
    "Fill Null value"
   ]
  },
  {
   "cell_type": "code",
   "execution_count": 17,
   "metadata": {},
   "outputs": [],
   "source": [
    "X_train['max_power'].fillna(X_train['max_power'].median(), inplace=True)"
   ]
  },
  {
   "cell_type": "code",
   "execution_count": 18,
   "metadata": {},
   "outputs": [],
   "source": [
    "X_test['max_power'].fillna(X_train['max_power'].median(), inplace=True)"
   ]
  },
  {
   "cell_type": "code",
   "execution_count": 19,
   "metadata": {},
   "outputs": [],
   "source": [
    "X_train['mileage'].fillna(X_train['mileage'].mean(), inplace=True)"
   ]
  },
  {
   "cell_type": "code",
   "execution_count": 20,
   "metadata": {},
   "outputs": [],
   "source": [
    "X_test['mileage'].fillna(X_train['mileage'].mean(), inplace=True)"
   ]
  },
  {
   "cell_type": "code",
   "execution_count": 21,
   "metadata": {},
   "outputs": [
    {
     "data": {
      "text/plain": [
       "max_power    0\n",
       "car_age      0\n",
       "mileage      0\n",
       "dtype: int64"
      ]
     },
     "execution_count": 21,
     "metadata": {},
     "output_type": "execute_result"
    }
   ],
   "source": [
    "X_train[['max_power', 'car_age', 'mileage']].isna().sum()"
   ]
  },
  {
   "cell_type": "code",
   "execution_count": 22,
   "metadata": {},
   "outputs": [
    {
     "data": {
      "text/plain": [
       "max_power    0\n",
       "car_age      0\n",
       "mileage      0\n",
       "dtype: int64"
      ]
     },
     "execution_count": 22,
     "metadata": {},
     "output_type": "execute_result"
    }
   ],
   "source": [
    "X_test[['max_power', 'car_age', 'mileage']].isna().sum()"
   ]
  },
  {
   "cell_type": "code",
   "execution_count": 23,
   "metadata": {},
   "outputs": [
    {
     "data": {
      "text/plain": [
       "(0, 0)"
      ]
     },
     "execution_count": 23,
     "metadata": {},
     "output_type": "execute_result"
    }
   ],
   "source": [
    "y_train.isna().sum(), y_test.isna().sum()"
   ]
  },
  {
   "cell_type": "markdown",
   "metadata": {},
   "source": [
    "### Scaling"
   ]
  },
  {
   "cell_type": "code",
   "execution_count": 24,
   "metadata": {},
   "outputs": [],
   "source": [
    "from sklearn.preprocessing import StandardScaler\n",
    "\n",
    "# feature scaling for X features\n",
    "scaler = StandardScaler()\n",
    "X_train = scaler.fit_transform(X_train)\n",
    "X_test  = scaler.transform(X_test)"
   ]
  },
  {
   "cell_type": "code",
   "execution_count": 25,
   "metadata": {},
   "outputs": [],
   "source": [
    "# add intercept to our X\n",
    "intercept = np.ones((X_train.shape[0], 1))\n",
    "X_train   = np.concatenate((intercept, X_train), axis=1)  #add intercept\n",
    "intercept = np.ones((X_test.shape[0], 1))\n",
    "X_test    = np.concatenate((intercept, X_test), axis=1)  #add intercept"
   ]
  },
  {
   "cell_type": "code",
   "execution_count": 97,
   "metadata": {},
   "outputs": [
    {
     "name": "stderr",
     "output_type": "stream",
     "text": [
      "2023/09/27 18:39:32 INFO mlflow.tracking.fluent: Experiment with name 'st124377-a3' does not exist. Creating a new experiment.\n"
     ]
    },
    {
     "data": {
      "text/plain": [
       "<Experiment: artifact_location='mlflow-artifacts:/864302170325912155', creation_time=1695814774427, experiment_id='864302170325912155', last_update_time=1695814774427, lifecycle_stage='active', name='st124377-a3', tags={}>"
      ]
     },
     "execution_count": 97,
     "metadata": {},
     "output_type": "execute_result"
    }
   ],
   "source": [
    "import mlflow\n",
    "import os\n",
    "\n",
    "mlflow.set_tracking_uri(\"https://mlflow.cs.ait.ac.th/\")\n",
    "\n",
    "os.environ[\"LOGNAME\"] = \"st124377\"\n",
    "mlflow.set_experiment(experiment_name=\"st124377-a3\")"
   ]
  },
  {
   "cell_type": "code",
   "execution_count": 116,
   "metadata": {},
   "outputs": [],
   "source": [
    "class LogisticRegression:\n",
    "    \n",
    "    def __init__(self, regularization, k, n, method, alpha = 0.001, max_iter=5000):\n",
    "        self.k = k\n",
    "        self.n = n\n",
    "        self.alpha = alpha\n",
    "        self.max_iter = max_iter\n",
    "        self.method = method\n",
    "        self.regularization = regularization\n",
    "    \n",
    "    def fit(self, X, Y):\n",
    "        self.W = np.random.rand(self.n, self.k)\n",
    "        self.losses = []\n",
    "        \n",
    "        if self.method == \"batch\":\n",
    "            start_time = time.time()\n",
    "            for i in range(self.max_iter):\n",
    "                loss, grad =  self.gradient(X, Y)\n",
    "                self.losses.append(loss)\n",
    "                self.W = self.W - self.alpha * grad\n",
    "                # if i % 500 == 0:\n",
    "                #     print(f\"Loss at iteration {i}\", loss)\n",
    "            print(f\"time taken: {time.time() - start_time}\")\n",
    "            \n",
    "        elif self.method == \"minibatch\":\n",
    "            start_time = time.time()\n",
    "            batch_size = int(0.3 * X.shape[0])\n",
    "            for i in range(self.max_iter):\n",
    "                ix = np.random.randint(0, X.shape[0]) #<----with replacement\n",
    "                batch_X = X[ix:ix+batch_size]\n",
    "                batch_Y = Y[ix:ix+batch_size]\n",
    "                loss, grad = self.gradient(batch_X, batch_Y)\n",
    "                self.losses.append(loss)\n",
    "                self.W = self.W - self.alpha * grad\n",
    "                # if i % 500 == 0:\n",
    "                #     print(f\"Loss at iteration {i}\", loss)\n",
    "            print(f\"time taken: {time.time() - start_time}\")\n",
    "            \n",
    "        elif self.method == \"sto\":\n",
    "            start_time = time.time()\n",
    "            list_of_used_ix = []\n",
    "            for i in range(self.max_iter):\n",
    "                idx = np.random.randint(X.shape[0])\n",
    "                while i in list_of_used_ix:\n",
    "                    idx = np.random.randint(X.shape[0])\n",
    "                X_train = X[idx, :].reshape(1, -1)\n",
    "                Y_train = Y[idx]\n",
    "                loss, grad = self.gradient(X_train, Y_train)\n",
    "                self.losses.append(loss)\n",
    "                self.W = self.W - self.alpha * grad\n",
    "                \n",
    "                list_of_used_ix.append(i)\n",
    "                if len(list_of_used_ix) == X.shape[0]:\n",
    "                    list_of_used_ix = []\n",
    "                # if i % 500 == 0:\n",
    "                #     print(f\"Loss at iteration {i}\", loss)\n",
    "            print(f\"time taken: {time.time() - start_time}\")\n",
    "            \n",
    "        else:\n",
    "            raise ValueError('Method must be one of the followings: \"batch\", \"minibatch\" or \"sto\".')\n",
    "        \n",
    "        \n",
    "    def gradient(self, X, Y):\n",
    "        m = X.shape[0]\n",
    "        h = self.h_theta(X, self.W)\n",
    "        loss = (- np.sum(Y*np.log(h)) / m) + self.regularization(self.W)\n",
    "        error = h - Y\n",
    "        grad = self.softmax_grad(X, error) + self.regularization.derivation(self.W)\n",
    "        return loss, grad\n",
    "\n",
    "    def softmax(self, theta_t_x):\n",
    "        return np.exp(theta_t_x) / np.sum(np.exp(theta_t_x), axis=1, keepdims=True)\n",
    "\n",
    "    def softmax_grad(self, X, error):\n",
    "        return  X.T @ error\n",
    "\n",
    "    def h_theta(self, X, W):\n",
    "        '''\n",
    "        Input:\n",
    "            X shape: (m, n)\n",
    "            w shape: (n, k)\n",
    "        Returns:\n",
    "            yhat shape: (m, k)\n",
    "        '''\n",
    "        return self.softmax(X @ W)\n",
    "    \n",
    "    def predict(self, X_test):\n",
    "        return np.argmax(self.h_theta(X_test, self.W), axis=1)\n",
    "    \n",
    "    def plot(self):\n",
    "        plt.plot(np.arange(len(self.losses)) , self.losses, label = \"Train Losses\")\n",
    "        plt.title(\"Losses\")\n",
    "        plt.xlabel(\"epoch\")\n",
    "        plt.ylabel(\"losses\")\n",
    "        plt.legend()\n",
    "        \n",
    "    def set_confustion_matrix(self, confusion_matrix):\n",
    "        self.confusion_matrix = confusion_matrix\n",
    "    \n",
    "    def cal_accuracy(self):\n",
    "        true_pred = np.sum(np.diagonal(self.confusion_matrix))\n",
    "        total_pred = np.sum(self.confusion_matrix)\n",
    "        return true_pred / total_pred\n",
    "    \n",
    "    def cal_precision(self, class_label):\n",
    "        true_positives = self.confusion_matrix[class_label, class_label]\n",
    "        false_positives = np.sum(self.confusion_matrix[:, class_label]) - true_positives\n",
    "        \n",
    "        if true_positives + false_positives == 0:\n",
    "            return 0  # Avoid division by zero\n",
    "        \n",
    "        precision_c = true_positives / (true_positives + false_positives)\n",
    "        return precision_c\n",
    "\n",
    "    def cal_recall(self, class_label):\n",
    "        true_positives = self.confusion_matrix[class_label, class_label]\n",
    "        false_negatives = np.sum(self.confusion_matrix[class_label, :]) - true_positives\n",
    "        \n",
    "        if true_positives + false_negatives == 0:\n",
    "            return 0  # Avoid division by zero\n",
    "        \n",
    "        recall_c = true_positives / (true_positives + false_negatives)\n",
    "        return recall_c\n",
    "\n",
    "    def cal_f1_score(self, class_label):\n",
    "        prec = self.cal_precision(class_label)\n",
    "        rec = self.cal_recall(class_label)\n",
    "        \n",
    "        if prec + rec == 0:\n",
    "            return 0  # Avoid division by zero\n",
    "        \n",
    "        f1_c = 2 * (prec * rec) / (prec + rec)\n",
    "        return f1_c\n",
    "    \n",
    "    def macro_precision(self):\n",
    "        total_precision = 0.0\n",
    "        for class_label in range(self.k):\n",
    "            total_precision += self.cal_precision(class_label)\n",
    "        \n",
    "        macro_precision_score = total_precision / self.k\n",
    "        return macro_precision_score\n",
    "\n",
    "    def macro_recall(self):\n",
    "        total_recall = 0.0\n",
    "        for class_label in range(self.k):\n",
    "            total_recall += self.cal_recall(class_label)\n",
    "        \n",
    "        macro_recall_score = total_recall / self.k\n",
    "        return macro_recall_score\n",
    "\n",
    "    def macro_f1_score(self):\n",
    "        total_f1 = 0.0\n",
    "        for class_label in range(self.k):\n",
    "            total_f1 += self.cal_f1_score(class_label)\n",
    "        \n",
    "        macro_f1_score = total_f1 / self.k\n",
    "        return macro_f1_score\n",
    "    \n",
    "    def set_class_weights(self, class_weight):\n",
    "        self.class_weight = class_weight\n",
    "\n",
    "    def weighted_precision(self):\n",
    "        weighted_precision_score = 0.0\n",
    "        for class_label in range(self.k):\n",
    "            precision_c = self.cal_precision(class_label)\n",
    "            weighted_precision_score += self.class_weight[class_label] * precision_c\n",
    "        \n",
    "        return weighted_precision_score\n",
    "\n",
    "    def weighted_recall(self):\n",
    "        weighted_recall_score = 0.0\n",
    "        for class_label in range(self.k):\n",
    "            recall_c = self.cal_recall(class_label)\n",
    "            weighted_recall_score += self.class_weight[class_label] * recall_c\n",
    "        \n",
    "        return weighted_recall_score\n",
    "\n",
    "    def weighted_f1_score(self):\n",
    "        weighted_f1_score = 0.0\n",
    "        for class_label in range(self.k):\n",
    "            f1_c = self.cal_f1_score(class_label)\n",
    "            weighted_f1_score += self.class_weight[class_label] * f1_c\n",
    "        \n",
    "        return weighted_f1_score"
   ]
  },
  {
   "cell_type": "code",
   "execution_count": 117,
   "metadata": {},
   "outputs": [],
   "source": [
    "class LassoPenalty:\n",
    "    \n",
    "    def __init__(self, l):\n",
    "        self.l = l # lambda value\n",
    "        \n",
    "    def __call__(self, theta): #__call__ allows us to call class as method\n",
    "        return self.l * np.sum(np.abs(theta))\n",
    "        \n",
    "    def derivation(self, theta):\n",
    "        return self.l * np.sign(theta)\n",
    "    \n",
    "class RidgePenalty:\n",
    "    \n",
    "    def __init__(self, l):\n",
    "        self.l = l\n",
    "        \n",
    "    def __call__(self, theta): #__call__ allows us to call class as method\n",
    "        return self.l * np.sum(np.square(theta))\n",
    "        \n",
    "    def derivation(self, theta):\n",
    "        return self.l * 2 * theta\n",
    "    \n",
    "class NormalPenalty:\n",
    "    def __init__(self):\n",
    "        pass\n",
    "    \n",
    "    def __call__(self, theta):\n",
    "        return 0\n",
    "    \n",
    "    def derivation(self, theta):\n",
    "        return 0\n",
    "    \n",
    "class Lasso(LogisticRegression):\n",
    "    def __init__(self, k, n, method, l):\n",
    "        self.regularization = LassoPenalty(l)\n",
    "        super().__init__(self.regularization, k, n, method)\n",
    "        \n",
    "class Ridge(LogisticRegression):\n",
    "    def __init__(self, k, n, method, l):\n",
    "        self.regularization = RidgePenalty(l)\n",
    "        super().__init__(self.regularization, k, n, method)\n",
    "        \n",
    "class Normal(LogisticRegression):\n",
    "    def __init__(self, k, n, method, l):\n",
    "        self.regularization = NormalPenalty()\n",
    "        super().__init__(self.regularization, k, n, method)"
   ]
  },
  {
   "cell_type": "code",
   "execution_count": 93,
   "metadata": {},
   "outputs": [],
   "source": [
    "k = len(set(y))  # no. of class  (can also use np.unique)\n",
    "m = X_train.shape[0]  # no.of samples\n",
    "n = X_train.shape[1]  # no. of features\n",
    "Y_train_encoded = np.zeros((m, k))\n",
    "for each_class in range(k):\n",
    "    cond = y_train==each_class\n",
    "    Y_train_encoded[np.where(cond), each_class] = 1"
   ]
  },
  {
   "cell_type": "code",
   "execution_count": 50,
   "metadata": {},
   "outputs": [],
   "source": [
    "#helper function for looping classnames\n",
    "import sys\n",
    "\n",
    "def str_to_class(classname):\n",
    "    return getattr(sys.modules[__name__], classname)"
   ]
  },
  {
   "cell_type": "code",
   "execution_count": 118,
   "metadata": {},
   "outputs": [
    {
     "name": "stdout",
     "output_type": "stream",
     "text": [
      "time taken: 2.076197862625122\n",
      "===== Ridge =====\n",
      "Method:  batch\n",
      "precision \t recall \t f1-score\n",
      "0.00\t0.73\t0.40\t0.52\n",
      "1.00\t0.83\t0.80\t0.82\n",
      "2.00\t0.58\t0.75\t0.66\n",
      "3.00\t0.87\t0.67\t0.76\n",
      "Accuracy:\t\t\t0.75\n",
      "Macro-Avg:\t0.75\t0.66\t0.69\n",
      "Weighted-Avg:\t0.77\t0.75\t0.75\n",
      "time taken: 0.5689020156860352\n",
      "===== Ridge =====\n",
      "Method:  minibatch\n",
      "precision \t recall \t f1-score\n",
      "0.00\t0.75\t0.45\t0.56\n",
      "1.00\t0.82\t0.84\t0.83\n",
      "2.00\t0.60\t0.67\t0.63\n",
      "3.00\t0.86\t0.70\t0.77\n",
      "Accuracy:\t\t\t0.76\n",
      "Macro-Avg:\t0.76\t0.67\t0.70\n",
      "Weighted-Avg:\t0.76\t0.76\t0.76\n",
      "time taken: 0.12984132766723633\n",
      "===== Ridge =====\n",
      "Method:  sto\n",
      "precision \t recall \t f1-score\n",
      "0.00\t0.00\t0.00\t0.00\n",
      "1.00\t0.70\t0.96\t0.81\n",
      "2.00\t0.67\t0.29\t0.41\n",
      "3.00\t0.74\t0.73\t0.74\n",
      "Accuracy:\t\t\t0.70\n",
      "Macro-Avg:\t0.53\t0.50\t0.49\n",
      "Weighted-Avg:\t0.67\t0.70\t0.65\n",
      "time taken: 2.01151442527771\n",
      "===== Lasso =====\n",
      "Method:  batch\n",
      "precision \t recall \t f1-score\n",
      "0.00\t0.72\t0.40\t0.51\n",
      "1.00\t0.83\t0.80\t0.82\n",
      "2.00\t0.58\t0.75\t0.66\n",
      "3.00\t0.87\t0.67\t0.76\n",
      "Accuracy:\t\t\t0.75\n",
      "Macro-Avg:\t0.75\t0.66\t0.69\n",
      "Weighted-Avg:\t0.77\t0.75\t0.75\n",
      "time taken: 1.195138931274414\n",
      "===== Lasso =====\n",
      "Method:  minibatch\n",
      "precision \t recall \t f1-score\n",
      "0.00\t0.68\t0.47\t0.55\n",
      "1.00\t0.81\t0.84\t0.83\n",
      "2.00\t0.60\t0.65\t0.63\n",
      "3.00\t0.86\t0.70\t0.77\n",
      "Accuracy:\t\t\t0.75\n",
      "Macro-Avg:\t0.74\t0.67\t0.69\n",
      "Weighted-Avg:\t0.76\t0.75\t0.75\n",
      "time taken: 0.3143787384033203\n",
      "===== Lasso =====\n",
      "Method:  sto\n",
      "precision \t recall \t f1-score\n",
      "0.00\t0.00\t0.00\t0.00\n",
      "1.00\t0.64\t0.95\t0.76\n",
      "2.00\t0.45\t0.04\t0.07\n",
      "3.00\t0.67\t0.79\t0.72\n",
      "Accuracy:\t\t\t0.64\n",
      "Macro-Avg:\t0.44\t0.44\t0.39\n",
      "Weighted-Avg:\t0.56\t0.64\t0.54\n",
      "time taken: 2.2020456790924072\n",
      "===== Normal =====\n",
      "Method:  batch\n",
      "precision \t recall \t f1-score\n",
      "0.00\t0.72\t0.40\t0.51\n",
      "1.00\t0.83\t0.80\t0.82\n",
      "2.00\t0.58\t0.75\t0.66\n",
      "3.00\t0.87\t0.67\t0.76\n",
      "Accuracy:\t\t\t0.75\n",
      "Macro-Avg:\t0.75\t0.66\t0.69\n",
      "Weighted-Avg:\t0.77\t0.75\t0.75\n",
      "time taken: 1.1463639736175537\n",
      "===== Normal =====\n",
      "Method:  minibatch\n",
      "precision \t recall \t f1-score\n",
      "0.00\t0.69\t0.47\t0.56\n",
      "1.00\t0.81\t0.84\t0.83\n",
      "2.00\t0.60\t0.65\t0.62\n",
      "3.00\t0.85\t0.70\t0.77\n",
      "Accuracy:\t\t\t0.75\n",
      "Macro-Avg:\t0.74\t0.66\t0.69\n",
      "Weighted-Avg:\t0.76\t0.75\t0.75\n",
      "time taken: 0.2988708019256592\n",
      "===== Normal =====\n",
      "Method:  sto\n",
      "precision \t recall \t f1-score\n",
      "0.00\t0.00\t0.00\t0.00\n",
      "1.00\t0.75\t0.89\t0.81\n",
      "2.00\t0.59\t0.52\t0.55\n",
      "3.00\t0.69\t0.56\t0.62\n",
      "Accuracy:\t\t\t0.70\n",
      "Macro-Avg:\t0.51\t0.49\t0.50\n",
      "Weighted-Avg:\t0.66\t0.70\t0.68\n"
     ]
    }
   ],
   "source": [
    "regs = [\"Ridge\",\"Lasso\", \"Normal\"]\n",
    "methods = [\"batch\", \"minibatch\" , \"sto\"] # \"batch\", \"minibatch\" or \"sto\"\n",
    "\n",
    "for reg in regs:\n",
    "    for method in methods:\n",
    "        \n",
    "        params = {\"k\" : k, \"n\" : X_train.shape[1],\"method\" : method, \"l\": 0.1}\n",
    "        \n",
    "        mlflow.start_run(run_name=f\"method-{params['method']}-l-{params['l']}-reg-{reg}\", nested=True)\n",
    "        mlflow.log_params(params=params)\n",
    "        \n",
    "        type_of_regression = str_to_class(reg)\n",
    "        model = type_of_regression(**params)\n",
    "        model.fit(X_train, Y_train_encoded)\n",
    "        yhat = model.predict(X_train)\n",
    "        \n",
    "        rows = 4\n",
    "        cols = 4\n",
    "        confusion_matrix = np.zeros((rows, cols))\n",
    "        confusion_matrix\n",
    "        \n",
    "        for i in range(y_train.shape[0]):\n",
    "            row = y_train.values[i]\n",
    "            col = yhat[i]\n",
    "            confusion_matrix[row][col] += 1\n",
    "            \n",
    "        model.set_confustion_matrix(confusion_matrix)\n",
    "        \n",
    "        print(\"=\"*5, reg, \"=\"*5)\n",
    "        \n",
    "        print(\"Method: \", method)\n",
    "        \n",
    "        print(\"precision\",\"\\t\",\"recall\",\"\\t\",\"f1-score\")\n",
    "        \n",
    "        for each_class in range(k):\n",
    "            precision = model.cal_precision(each_class)\n",
    "            recall    = model.cal_recall(each_class)\n",
    "            f1_score  = model.cal_f1_score(each_class)\n",
    "            print(f\"{each_class:.2f}\\t{precision:.2f}\\t{recall:.2f}\\t{f1_score:.2f}\")\n",
    "        \n",
    "        accuracy = model.cal_accuracy()\n",
    "        print(f\"Accuracy:\\t\\t\\t{accuracy:.2f}\")\n",
    "            \n",
    "        macro_precision = model.macro_precision()\n",
    "        macro_recall    = model.macro_recall()\n",
    "        macro_f1score   = model.macro_f1_score()\n",
    "        print(f\"Macro-Avg:\\t{macro_precision:.2f}\\t{macro_recall:.2f}\\t{macro_f1score:.2f}\")\n",
    "        \n",
    "        class_weight = (y_train.value_counts() / y_train.count()).to_dict()\n",
    "        model.set_class_weights(class_weight)\n",
    "        \n",
    "        weight_precision = model.weighted_precision() \n",
    "        weight_recall    = model.weighted_recall()\n",
    "        weight_f1score   = model.weighted_f1_score()\n",
    "        print(f\"Weighted-Avg:\\t{weight_precision:.2f}\\t{weight_recall:.2f}\\t{weight_f1score:.2f}\")\n",
    "        \n",
    "        mlflow.log_metric(key=\"Accuracy\", value=accuracy)\n",
    "        mlflow.log_metric(key=\"Macro_F1_Score\", value=macro_f1score)\n",
    "        mlflow.log_metric(key=\"Weighted_F1_Score\", value=weight_f1score)\n",
    "        \n",
    "        signature = mlflow.models.infer_signature(X_train, model.predict(X_train))\n",
    "        mlflow.sklearn.log_model(model, artifact_path='model', signature=signature)\n",
    "        \n",
    "        mlflow.end_run()"
   ]
  },
  {
   "cell_type": "code",
   "execution_count": null,
   "metadata": {},
   "outputs": [],
   "source": [
    "from sklearn.metrics import confusion_matrix, classification_report\n",
    "\n",
    "print(\"=========Confusion Matrix=========\")\n",
    "print(confusion_matrix(y_train, yhat))\n",
    "\n",
    "print(\"=========Classification report=======\")\n",
    "print(\"Report: \", classification_report(y_train, yhat))"
   ]
  },
  {
   "cell_type": "code",
   "execution_count": 68,
   "metadata": {},
   "outputs": [
    {
     "name": "stdout",
     "output_type": "stream",
     "text": [
      "Loss at iteration 0 2.5670660860403203\n",
      "Loss at iteration 500 7.578901058648199\n",
      "Loss at iteration 1000 7.75683833852479\n",
      "Loss at iteration 1500 7.698837285797125\n",
      "Loss at iteration 2000 7.706093680740864\n",
      "Loss at iteration 2500 7.578600813693145\n",
      "Loss at iteration 3000 7.601227212660519\n",
      "Loss at iteration 3500 7.578317826238961\n",
      "Loss at iteration 4000 7.49229499455702\n",
      "Loss at iteration 4500 7.486358389083986\n",
      "time taken: 0.5853970050811768\n"
     ]
    }
   ],
   "source": [
    "reg = \"Ridge\" # \"Lasso\" \"Ridge\" \"Normal\"\n",
    "# self, k, n, method, l\n",
    "# params = {\"method\": \"batch\", \"lr\": 0.1, \"l\": 0.1}\n",
    "params = {\"k\" : k, \"n\" : X_train.shape[1],\"method\" : \"minibatch\", \"l\": 0.1}\n",
    "type_of_regression = str_to_class(reg)    #Ridge, Lasso, ElasticNet\n",
    "model = type_of_regression(**params)\n",
    "model.fit(X_train, Y_train_encoded)\n",
    "yhat = model.predict(X_train)"
   ]
  },
  {
   "cell_type": "code",
   "execution_count": 29,
   "metadata": {},
   "outputs": [
    {
     "name": "stdout",
     "output_type": "stream",
     "text": [
      "Loss at iteration 0 1.4984412329049968\n",
      "Loss at iteration 500 0.5424512494283315\n",
      "Loss at iteration 1000 0.541005969452236\n",
      "Loss at iteration 1500 0.5493805318840751\n",
      "Loss at iteration 2000 0.5404367631685452\n",
      "Loss at iteration 2500 0.6040715399191616\n",
      "Loss at iteration 3000 0.5599223071808621\n",
      "Loss at iteration 3500 0.6607886282437258\n",
      "Loss at iteration 4000 0.572826113351195\n",
      "Loss at iteration 4500 0.5971835819831482\n",
      "time taken: 0.5995638370513916\n"
     ]
    }
   ],
   "source": [
    "# model = LogisticRegression(k, X_train.shape[1], \"minibatch\")\n",
    "# model.fit(X_train, Y_train_encoded)\n",
    "# yhat = model.predict(X_train)"
   ]
  },
  {
   "cell_type": "code",
   "execution_count": 69,
   "metadata": {},
   "outputs": [
    {
     "data": {
      "text/plain": [
       "array([[0., 0., 0., 0.],\n",
       "       [0., 0., 0., 0.],\n",
       "       [0., 0., 0., 0.],\n",
       "       [0., 0., 0., 0.]])"
      ]
     },
     "execution_count": 69,
     "metadata": {},
     "output_type": "execute_result"
    }
   ],
   "source": [
    "# Create confusion matrix base\n",
    "rows = 4\n",
    "cols = 4\n",
    "confusion_matrix = np.zeros((rows, cols))\n",
    "confusion_matrix"
   ]
  },
  {
   "cell_type": "code",
   "execution_count": 70,
   "metadata": {},
   "outputs": [
    {
     "data": {
      "text/plain": [
       "array([[ 116.,  144.,    0.,    0.],\n",
       "       [  38., 2546.,  413.,   10.],\n",
       "       [   0.,  406., 1016.,   97.],\n",
       "       [   0.,   27.,  243.,  633.]])"
      ]
     },
     "execution_count": 70,
     "metadata": {},
     "output_type": "execute_result"
    }
   ],
   "source": [
    "for i in range(y_train.shape[0]):\n",
    "    row = y_train.values[i]\n",
    "    col = yhat[i]\n",
    "    confusion_matrix[row][col] += 1\n",
    "    \n",
    "confusion_matrix"
   ]
  },
  {
   "cell_type": "code",
   "execution_count": 71,
   "metadata": {},
   "outputs": [],
   "source": [
    "model.set_confustion_matrix(confusion_matrix)"
   ]
  },
  {
   "cell_type": "code",
   "execution_count": 72,
   "metadata": {},
   "outputs": [
    {
     "name": "stdout",
     "output_type": "stream",
     "text": [
      "Accuracy: 0.7577781683951486\n"
     ]
    }
   ],
   "source": [
    "accuracy = model.cal_accuracy()\n",
    "print(\"Accuracy: {}\".format(accuracy))"
   ]
  },
  {
   "cell_type": "code",
   "execution_count": 73,
   "metadata": {},
   "outputs": [
    {
     "name": "stdout",
     "output_type": "stream",
     "text": [
      "===== Class_Label: 0 =====\n",
      "Precision: 0.7532467532467533, Recall: 0.4461538461538462, F1_score: 0.5603864734299517\n",
      "===== Class_Label: 1 =====\n",
      "Precision: 0.8152417547230227, Recall: 0.8466910542068506, F1_score: 0.8306688417618271\n",
      "===== Class_Label: 2 =====\n",
      "Precision: 0.6076555023923444, Recall: 0.6688610928242265, F1_score: 0.6367909746161078\n",
      "===== Class_Label: 3 =====\n",
      "Precision: 0.8554054054054054, Recall: 0.7009966777408638, F1_score: 0.7705416920267804\n"
     ]
    }
   ],
   "source": [
    "for each_class in range(k):\n",
    "    # print(type(class_label))\n",
    "    precision = model.cal_precision(each_class)\n",
    "    recall    = model.cal_recall(each_class)\n",
    "    f1_score  = model.cal_f1_score(each_class)\n",
    "    print(\"=\"*5, \"Class_Label:\", each_class, \"=\"*5)\n",
    "    print(\"Precision: {}, Recall: {}, F1_score: {}\".format(precision,recall,f1_score))"
   ]
  },
  {
   "cell_type": "code",
   "execution_count": 74,
   "metadata": {},
   "outputs": [
    {
     "name": "stdout",
     "output_type": "stream",
     "text": [
      "Macro-Precision: 0.7578873539418814, Macro-Recall: 0.6656756677314468, Macro-F1_score: 0.6995969954586667\n"
     ]
    }
   ],
   "source": [
    "macro_precision = model.macro_precision()\n",
    "macro_recall    = model.macro_recall()\n",
    "macro_f1score   = model.macro_f1_score()\n",
    "print(\"Macro-Precision: {}, Macro-Recall: {}, Macro-F1_score: {}\".format(macro_precision,macro_recall,macro_f1score))"
   ]
  },
  {
   "cell_type": "code",
   "execution_count": 75,
   "metadata": {},
   "outputs": [],
   "source": [
    "class_weight = (y_train.value_counts() / y_train.count()).to_dict()\n",
    "model.set_class_weights(class_weight)"
   ]
  },
  {
   "cell_type": "code",
   "execution_count": 76,
   "metadata": {},
   "outputs": [
    {
     "name": "stdout",
     "output_type": "stream",
     "text": [
      "Weighted-Precision: 0.7633566358782453, Weighted-Recall: 0.7577781683951484, Weighted-F1_score: 0.7570058584305944\n"
     ]
    }
   ],
   "source": [
    "weight_precision = model.weighted_precision()\n",
    "weight_recall    = model.weighted_recall()\n",
    "weight_f1score   = model.weighted_f1_score()\n",
    "print(\"Weighted-Precision: {}, Weighted-Recall: {}, Weighted-F1_score: {}\".format(weight_precision,weight_recall,weight_f1score))"
   ]
  },
  {
   "cell_type": "code",
   "execution_count": 77,
   "metadata": {},
   "outputs": [
    {
     "data": {
      "text/plain": [
       "array([[ 116,  144,    0,    0],\n",
       "       [  38, 2546,  413,   10],\n",
       "       [   0,  406, 1016,   97],\n",
       "       [   0,   27,  243,  633]], dtype=int64)"
      ]
     },
     "execution_count": 77,
     "metadata": {},
     "output_type": "execute_result"
    }
   ],
   "source": [
    "from sklearn.metrics import confusion_matrix\n",
    "conf_matrix = confusion_matrix(y_train, yhat)\n",
    "conf_matrix"
   ]
  },
  {
   "cell_type": "code",
   "execution_count": 101,
   "metadata": {},
   "outputs": [
    {
     "name": "stdout",
     "output_type": "stream",
     "text": [
      "              precision    recall  f1-score   support\n",
      "\n",
      "           0       0.00      0.00      0.00       260\n",
      "           1       0.64      0.96      0.77      3007\n",
      "           2       0.41      0.09      0.14      1519\n",
      "           3       0.74      0.73      0.73       903\n",
      "\n",
      "    accuracy                           0.65      5689\n",
      "   macro avg       0.45      0.44      0.41      5689\n",
      "weighted avg       0.57      0.65      0.56      5689\n",
      "\n"
     ]
    }
   ],
   "source": [
    "from sklearn.metrics import classification_report\n",
    "print(classification_report(y_train, yhat))"
   ]
  },
  {
   "cell_type": "code",
   "execution_count": 65,
   "metadata": {},
   "outputs": [
    {
     "data": {
      "text/plain": [
       "'              precision    recall  f1-score   support\\n\\n           0       0.66      0.47      0.55       260\\n           1       0.80      0.86      0.83      3007\\n           2       0.61      0.62      0.62      1519\\n           3       0.85      0.71      0.77       903\\n\\n    accuracy                           0.75      5689\\n   macro avg       0.73      0.66      0.69      5689\\nweighted avg       0.75      0.75      0.75      5689\\n'"
      ]
     },
     "execution_count": 65,
     "metadata": {},
     "output_type": "execute_result"
    }
   ],
   "source": [
    "classification_report(y_train, yhat)"
   ]
  }
 ],
 "metadata": {
  "kernelspec": {
   "display_name": "Python 3",
   "language": "python",
   "name": "python3"
  },
  "language_info": {
   "codemirror_mode": {
    "name": "ipython",
    "version": 3
   },
   "file_extension": ".py",
   "mimetype": "text/x-python",
   "name": "python",
   "nbconvert_exporter": "python",
   "pygments_lexer": "ipython3",
   "version": "3.11.5"
  },
  "orig_nbformat": 4
 },
 "nbformat": 4,
 "nbformat_minor": 2
}
